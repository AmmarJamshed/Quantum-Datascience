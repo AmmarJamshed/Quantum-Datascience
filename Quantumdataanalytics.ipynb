{
 "cells": [
  {
   "cell_type": "markdown",
   "metadata": {},
   "source": [
    "## Basic Quantum data analysis"
   ]
  },
  {
   "cell_type": "code",
   "execution_count": 21,
   "metadata": {},
   "outputs": [],
   "source": [
    "import numpy as np\n",
    "from qiskit import QuantumCircuit\n",
    "from qiskit.algorithms import Grover\n",
    "from qiskit.providers.aer import QasmSimulator"
   ]
  },
  {
   "cell_type": "code",
   "execution_count": 6,
   "metadata": {},
   "outputs": [],
   "source": [
    "# Create a Grover object\n",
    "grover = Grover()"
   ]
  },
  {
   "cell_type": "code",
   "execution_count": 7,
   "metadata": {},
   "outputs": [],
   "source": [
    "# Create a quantum circuit\n",
    "qubits = QuantumCircuit(2)"
   ]
  },
  {
   "cell_type": "code",
   "execution_count": 11,
   "metadata": {},
   "outputs": [],
   "source": [
    "# Simulate the quantum circuit\n",
    "simulator = QasmSimulator()\n",
    "result = simulator.run(qubits).result()"
   ]
  },
  {
   "cell_type": "code",
   "execution_count": 12,
   "metadata": {},
   "outputs": [
    {
     "name": "stdout",
     "output_type": "stream",
     "text": [
      "Result(backend_name='qasm_simulator', backend_version='0.12.0', qobj_id='', job_id='8cdc4a2b-7ee0-4925-8891-cf171880e47c', success=True, results=[ExperimentResult(shots=1024, success=True, meas_level=2, data=ExperimentResultData(), header=QobjExperimentHeader(creg_sizes=[], global_phase=0.0, memory_slots=0, metadata=None, n_qubits=2, name='circuit-124', qreg_sizes=[['q', 2]]), status=DONE, seed_simulator=2059062616, metadata={'remapped_qubits': False, 'parallel_state_update': 64, 'input_qubit_map': [], 'batched_shots_optimization': False, 'measure_sampling': False, 'device': 'CPU', 'method': 'stabilizer', 'num_qubits': 0, 'num_clbits': 0, 'parallel_shots': 1, 'active_input_qubits': []}, time_taken=3.8721e-05)], date=2023-09-20T21:40:40.435266, status=COMPLETED, header=None, metadata={'mpi_rank': 0, 'time_taken_execute': 0.00019229, 'parallel_experiments': 1, 'max_memory_mb': 257395, 'omp_enabled': True, 'num_mpi_processes': 1, 'max_gpu_memory_mb': 0, 'num_processes_per_experiments': 1}, time_taken=0.0012738704681396484)\n"
     ]
    }
   ],
   "source": [
    "# Get the output of the quantum algorithm\n",
    "output = result\n",
    "\n",
    "# Print the output\n",
    "print(output)"
   ]
  },
  {
   "cell_type": "markdown",
   "metadata": {},
   "source": [
    "## Transform a datset with Quantum computing"
   ]
  },
  {
   "cell_type": "code",
   "execution_count": 24,
   "metadata": {},
   "outputs": [],
   "source": [
    "import numpy as np\n",
    "from qiskit import QuantumCircuit\n",
    "from qiskit.providers.aer import QasmSimulator"
   ]
  },
  {
   "cell_type": "code",
   "execution_count": 25,
   "metadata": {},
   "outputs": [],
   "source": [
    "# Encode the dataset in a quantum state\n",
    "dataset = np.array([1, 2, 3, 4, 5])\n",
    "qubits = QuantumCircuit(len(dataset))\n",
    "for i in range(len(dataset)):\n",
    "    if dataset[i] == 1:\n",
    "        qubits.x(i)"
   ]
  },
  {
   "cell_type": "code",
   "execution_count": 26,
   "metadata": {},
   "outputs": [],
   "source": [
    "# Create a Grover object\n",
    "grover = Grover(qubits)"
   ]
  },
  {
   "cell_type": "code",
   "execution_count": 27,
   "metadata": {},
   "outputs": [],
   "source": [
    "# Measure the quantum state\n",
    "simulator = Aer.get_backend(\"qasm_simulator\")\n",
    "result = simulator.run(qubits).result()"
   ]
  },
  {
   "cell_type": "code",
   "execution_count": 29,
   "metadata": {},
   "outputs": [
    {
     "name": "stdout",
     "output_type": "stream",
     "text": [
      "Result(backend_name='qasm_simulator', backend_version='0.12.0', qobj_id='', job_id='3e4afbda-a3da-4684-ac54-2bcadf1336e9', success=True, results=[ExperimentResult(shots=1024, success=True, meas_level=2, data=ExperimentResultData(), header=QobjExperimentHeader(creg_sizes=[], global_phase=0.0, memory_slots=0, metadata=None, n_qubits=5, name='circuit-128', qreg_sizes=[['q', 5]]), status=DONE, seed_simulator=3497567862, metadata={'remapped_qubits': False, 'parallel_state_update': 64, 'input_qubit_map': [], 'batched_shots_optimization': False, 'measure_sampling': False, 'device': 'CPU', 'method': 'stabilizer', 'num_qubits': 0, 'num_clbits': 0, 'parallel_shots': 1, 'active_input_qubits': []}, time_taken=8.836e-06)], date=2023-09-20T21:46:13.737493, status=COMPLETED, header=None, metadata={'mpi_rank': 0, 'time_taken_execute': 9.0099e-05, 'parallel_experiments': 1, 'max_memory_mb': 257395, 'omp_enabled': True, 'num_mpi_processes': 1, 'max_gpu_memory_mb': 0, 'num_processes_per_experiments': 1}, time_taken=0.0004277229309082031)\n"
     ]
    }
   ],
   "source": [
    "\n",
    "# Get the output of the quantum algorithm\n",
    "output = result\n",
    "\n",
    "# Print the output\n",
    "print(output)"
   ]
  },
  {
   "cell_type": "code",
   "execution_count": null,
   "metadata": {},
   "outputs": [],
   "source": []
  }
 ],
 "metadata": {
  "kernelspec": {
   "display_name": "Python 3",
   "language": "python",
   "name": "python3"
  },
  "language_info": {
   "codemirror_mode": {
    "name": "ipython",
    "version": 3
   },
   "file_extension": ".py",
   "mimetype": "text/x-python",
   "name": "python",
   "nbconvert_exporter": "python",
   "pygments_lexer": "ipython3",
   "version": "3.8.5"
  }
 },
 "nbformat": 4,
 "nbformat_minor": 4
}
